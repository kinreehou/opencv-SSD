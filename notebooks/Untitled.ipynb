{
 "cells": [
  {
   "cell_type": "code",
   "execution_count": 1,
   "metadata": {},
   "outputs": [
    {
     "name": "stdout",
     "output_type": "stream",
     "text": [
      "\n",
      "/home/kinree/anaconda3/envs/tensorflow/lib/python36.zip\n",
      "/home/kinree/anaconda3/envs/tensorflow/lib/python3.6\n",
      "/home/kinree/anaconda3/envs/tensorflow/lib/python3.6/lib-dynload\n",
      "/home/kinree/anaconda3/envs/tensorflow/lib/python3.6/site-packages\n",
      "/home/kinree/anaconda3/envs/tensorflow/lib/python3.6/site-packages/IPython/extensions\n",
      "/home/kinree/.ipython\n"
     ]
    }
   ],
   "source": [
    "import sys\n",
    "for p in sys.path:\n",
    "    print(p)"
   ]
  }
 ],
 "metadata": {
  "kernelspec": {
   "display_name": "Python 3",
   "language": "python",
   "name": "python3"
  },
  "language_info": {
   "codemirror_mode": {
    "name": "ipython",
    "version": 3
   },
   "file_extension": ".py",
   "mimetype": "text/x-python",
   "name": "python",
   "nbconvert_exporter": "python",
   "pygments_lexer": "ipython3",
   "version": "3.6.6"
  }
 },
 "nbformat": 4,
 "nbformat_minor": 2
}
